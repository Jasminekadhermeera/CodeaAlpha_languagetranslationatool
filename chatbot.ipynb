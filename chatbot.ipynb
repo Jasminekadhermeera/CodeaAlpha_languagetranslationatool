{
 "cells": [
  {
   "cell_type": "code",
   "execution_count": 1,
   "id": "cb7385cf-06ed-476e-a9ab-4bd72041f566",
   "metadata": {},
   "outputs": [
    {
     "data": {
      "text/plain": [
       "{'faqs': [{'question': 'What services do you provide?',\n",
       "   'answer': 'We offer a variety of services, including product consultation, support, and customization options.'},\n",
       "  {'question': 'How can I reset my password?',\n",
       "   'answer': \"To reset your password, click on 'Forgot Password' on the login page and follow the instructions.\"},\n",
       "  {'question': 'What is your refund policy?',\n",
       "   'answer': 'Refunds are processed within 7-10 business days after approval.'},\n",
       "  {'question': 'How do I contact customer support?',\n",
       "   'answer': 'You can reach out to our 24/7 customer support team via email or live chat.'},\n",
       "  {'question': 'Where can I find product tutorials?',\n",
       "   'answer': \"Product tutorials are available in the 'Resources' section of our website.\"}]}"
      ]
     },
     "execution_count": 1,
     "metadata": {},
     "output_type": "execute_result"
    }
   ],
   "source": [
    "{\n",
    "  \"faqs\": [\n",
    "    {\"question\": \"What services do you provide?\", \"answer\": \"We offer a variety of services, including product consultation, support, and customization options.\"},\n",
    "    {\"question\": \"How can I reset my password?\", \"answer\": \"To reset your password, click on 'Forgot Password' on the login page and follow the instructions.\"},\n",
    "    {\"question\": \"What is your refund policy?\", \"answer\": \"Refunds are processed within 7-10 business days after approval.\"},\n",
    "    {\"question\": \"How do I contact customer support?\", \"answer\": \"You can reach out to our 24/7 customer support team via email or live chat.\"},\n",
    "    {\"question\": \"Where can I find product tutorials?\", \"answer\": \"Product tutorials are available in the 'Resources' section of our website.\"}\n",
    "  ]\n",
    "}\n"
   ]
  },
  {
   "cell_type": "code",
   "execution_count": 2,
   "id": "7021b897-a818-4afd-aa62-32620cfce698",
   "metadata": {},
   "outputs": [
    {
     "data": {
      "application/vnd.jupyter.widget-view+json": {
       "model_id": "99b8cabbc56d4c9eb2010082df95fcf4",
       "version_major": 2,
       "version_minor": 0
      },
      "text/plain": [
       "VBox(children=(HTML(value=\"<h1 style='color:blue;'>FAQ Chatbot</h1>\"), HTML(value='<h3>Ask me anything about o…"
      ]
     },
     "metadata": {},
     "output_type": "display_data"
    }
   ],
   "source": [
    "import json\n",
    "from ipywidgets import widgets, VBox, HBox, Layout\n",
    "from IPython.display import display\n",
    "from sklearn.feature_extraction.text import TfidfVectorizer\n",
    "from sklearn.metrics.pairwise import cosine_similarity\n",
    "\n",
    "\n",
    "with open(\"faqs.json\", \"r\") as file:\n",
    "    faq_data = json.load(file)[\"faqs\"]\n",
    "\n",
    "questions = [item[\"question\"] for item in faq_data]\n",
    "answers = [item[\"answer\"] for item in faq_data]\n",
    "\n",
    "\n",
    "vectorizer = TfidfVectorizer()\n",
    "question_vectors = vectorizer.fit_transform(questions)\n",
    "\n",
    "\n",
    "def get_response(user_input):\n",
    "    user_vector = vectorizer.transform([user_input])\n",
    "    similarities = cosine_similarity(user_vector, question_vectors)\n",
    "    best_match_index = similarities.argmax()\n",
    "    if similarities[0, best_match_index] > 0.4:  # Adjust threshold\n",
    "        return answers[best_match_index]\n",
    "    else:\n",
    "        return \"I'm sorry, I couldn't find an answer to that question.\"\n",
    "\n",
    "\n",
    "header = widgets.HTML(\"<h1 style='color:blue;'>FAQ Chatbot</h1>\")\n",
    "sub_header = widgets.HTML(\"<h3>Ask me anything about our services!</h3>\")\n",
    "\n",
    "chat_output = widgets.Output(layout=Layout(border=\"1px solid black\", padding=\"10px\", height=\"300px\", overflow=\"auto\"))\n",
    "chat_input = widgets.Text(placeholder=\"Type your question here...\", layout=Layout(width=\"90%\"))\n",
    "\n",
    "send_button = widgets.Button(description=\"Send\", button_style=\"success\")\n",
    "clear_button = widgets.Button(description=\"Clear\", button_style=\"danger\")\n",
    "\n",
    "def handle_input(change):\n",
    "    user_question = chat_input.value\n",
    "    if user_question.strip():\n",
    "        with chat_output:\n",
    "            print(f\"You: {user_question}\")\n",
    "            bot_response = get_response(user_question)\n",
    "            print(f\"Bot: {bot_response}\\n\")\n",
    "    chat_input.value = \"\"\n",
    "\n",
    "def clear_chat(_):\n",
    "    chat_output.clear_output()\n",
    "\n",
    "send_button.on_click(lambda _: handle_input(None))\n",
    "clear_button.on_click(clear_chat)\n",
    "\n",
    "\n",
    "buttons = HBox([send_button, clear_button], layout=Layout(justify_content=\"space-between\"))\n",
    "ui = VBox([header, sub_header, chat_output, chat_input, buttons], layout=Layout(width=\"50%\", margin=\"auto\"))\n",
    "\n",
    "\n",
    "display(ui)\n"
   ]
  },
  {
   "cell_type": "code",
   "execution_count": null,
   "id": "f6995edd-fd68-4e47-848c-b378f73716b0",
   "metadata": {},
   "outputs": [],
   "source": []
  },
  {
   "cell_type": "code",
   "execution_count": null,
   "id": "3a7ffe28-ccca-45fa-8d52-4a5219180675",
   "metadata": {},
   "outputs": [],
   "source": []
  }
 ],
 "metadata": {
  "kernelspec": {
   "display_name": "Python 3 (ipykernel)",
   "language": "python",
   "name": "python3"
  },
  "language_info": {
   "codemirror_mode": {
    "name": "ipython",
    "version": 3
   },
   "file_extension": ".py",
   "mimetype": "text/x-python",
   "name": "python",
   "nbconvert_exporter": "python",
   "pygments_lexer": "ipython3",
   "version": "3.11.5"
  }
 },
 "nbformat": 4,
 "nbformat_minor": 5
}
