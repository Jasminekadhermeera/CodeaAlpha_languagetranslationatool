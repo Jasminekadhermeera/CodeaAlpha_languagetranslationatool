{
 "cells": [
  {
   "cell_type": "code",
   "execution_count": 1,
   "id": "20748e85-3a47-4f8e-b3bd-0076c985d153",
   "metadata": {},
   "outputs": [
    {
     "name": "stdout",
     "output_type": "stream",
     "text": [
      "Requirement already satisfied: googletrans==4.0.0-rc1 in c:\\users\\habee\\anaconda3\\envs\\translate_env\\lib\\site-packages (4.0.0rc1)\n",
      "Requirement already satisfied: ipywidgets in c:\\users\\habee\\anaconda3\\envs\\translate_env\\lib\\site-packages (8.1.5)\n",
      "Requirement already satisfied: httpx==0.13.3 in c:\\users\\habee\\anaconda3\\envs\\translate_env\\lib\\site-packages (from googletrans==4.0.0-rc1) (0.13.3)\n",
      "Requirement already satisfied: certifi in c:\\users\\habee\\anaconda3\\envs\\translate_env\\lib\\site-packages (from httpx==0.13.3->googletrans==4.0.0-rc1) (2024.12.14)\n",
      "Requirement already satisfied: hstspreload in c:\\users\\habee\\anaconda3\\envs\\translate_env\\lib\\site-packages (from httpx==0.13.3->googletrans==4.0.0-rc1) (2025.1.1)\n",
      "Requirement already satisfied: sniffio in c:\\users\\habee\\anaconda3\\envs\\translate_env\\lib\\site-packages (from httpx==0.13.3->googletrans==4.0.0-rc1) (1.3.1)\n",
      "Requirement already satisfied: chardet==3.* in c:\\users\\habee\\anaconda3\\envs\\translate_env\\lib\\site-packages (from httpx==0.13.3->googletrans==4.0.0-rc1) (3.0.4)\n",
      "Requirement already satisfied: idna==2.* in c:\\users\\habee\\anaconda3\\envs\\translate_env\\lib\\site-packages (from httpx==0.13.3->googletrans==4.0.0-rc1) (2.10)\n",
      "Requirement already satisfied: rfc3986<2,>=1.3 in c:\\users\\habee\\anaconda3\\envs\\translate_env\\lib\\site-packages (from httpx==0.13.3->googletrans==4.0.0-rc1) (1.5.0)\n",
      "Requirement already satisfied: httpcore==0.9.* in c:\\users\\habee\\anaconda3\\envs\\translate_env\\lib\\site-packages (from httpx==0.13.3->googletrans==4.0.0-rc1) (0.9.1)\n",
      "Requirement already satisfied: h11<0.10,>=0.8 in c:\\users\\habee\\anaconda3\\envs\\translate_env\\lib\\site-packages (from httpcore==0.9.*->httpx==0.13.3->googletrans==4.0.0-rc1) (0.9.0)\n",
      "Requirement already satisfied: h2==3.* in c:\\users\\habee\\anaconda3\\envs\\translate_env\\lib\\site-packages (from httpcore==0.9.*->httpx==0.13.3->googletrans==4.0.0-rc1) (3.2.0)\n",
      "Requirement already satisfied: hyperframe<6,>=5.2.0 in c:\\users\\habee\\anaconda3\\envs\\translate_env\\lib\\site-packages (from h2==3.*->httpcore==0.9.*->httpx==0.13.3->googletrans==4.0.0-rc1) (5.2.0)\n",
      "Requirement already satisfied: hpack<4,>=3.0 in c:\\users\\habee\\anaconda3\\envs\\translate_env\\lib\\site-packages (from h2==3.*->httpcore==0.9.*->httpx==0.13.3->googletrans==4.0.0-rc1) (3.0.0)\n",
      "Requirement already satisfied: comm>=0.1.3 in c:\\users\\habee\\anaconda3\\envs\\translate_env\\lib\\site-packages (from ipywidgets) (0.2.2)\n",
      "Requirement already satisfied: ipython>=6.1.0 in c:\\users\\habee\\anaconda3\\envs\\translate_env\\lib\\site-packages (from ipywidgets) (8.18.1)\n",
      "Requirement already satisfied: traitlets>=4.3.1 in c:\\users\\habee\\anaconda3\\envs\\translate_env\\lib\\site-packages (from ipywidgets) (5.14.3)\n",
      "Requirement already satisfied: widgetsnbextension~=4.0.12 in c:\\users\\habee\\anaconda3\\envs\\translate_env\\lib\\site-packages (from ipywidgets) (4.0.13)\n",
      "Requirement already satisfied: jupyterlab-widgets~=3.0.12 in c:\\users\\habee\\anaconda3\\envs\\translate_env\\lib\\site-packages (from ipywidgets) (3.0.13)\n",
      "Requirement already satisfied: decorator in c:\\users\\habee\\anaconda3\\envs\\translate_env\\lib\\site-packages (from ipython>=6.1.0->ipywidgets) (5.1.1)\n",
      "Requirement already satisfied: jedi>=0.16 in c:\\users\\habee\\anaconda3\\envs\\translate_env\\lib\\site-packages (from ipython>=6.1.0->ipywidgets) (0.19.2)\n",
      "Requirement already satisfied: matplotlib-inline in c:\\users\\habee\\anaconda3\\envs\\translate_env\\lib\\site-packages (from ipython>=6.1.0->ipywidgets) (0.1.7)\n",
      "Requirement already satisfied: prompt-toolkit<3.1.0,>=3.0.41 in c:\\users\\habee\\anaconda3\\envs\\translate_env\\lib\\site-packages (from ipython>=6.1.0->ipywidgets) (3.0.48)\n",
      "Requirement already satisfied: pygments>=2.4.0 in c:\\users\\habee\\anaconda3\\envs\\translate_env\\lib\\site-packages (from ipython>=6.1.0->ipywidgets) (2.19.1)\n",
      "Requirement already satisfied: stack-data in c:\\users\\habee\\anaconda3\\envs\\translate_env\\lib\\site-packages (from ipython>=6.1.0->ipywidgets) (0.6.3)\n",
      "Requirement already satisfied: typing-extensions in c:\\users\\habee\\anaconda3\\envs\\translate_env\\lib\\site-packages (from ipython>=6.1.0->ipywidgets) (4.12.2)\n",
      "Requirement already satisfied: exceptiongroup in c:\\users\\habee\\anaconda3\\envs\\translate_env\\lib\\site-packages (from ipython>=6.1.0->ipywidgets) (1.2.2)\n",
      "Requirement already satisfied: colorama in c:\\users\\habee\\anaconda3\\envs\\translate_env\\lib\\site-packages (from ipython>=6.1.0->ipywidgets) (0.4.6)\n",
      "Requirement already satisfied: parso<0.9.0,>=0.8.4 in c:\\users\\habee\\anaconda3\\envs\\translate_env\\lib\\site-packages (from jedi>=0.16->ipython>=6.1.0->ipywidgets) (0.8.4)\n",
      "Requirement already satisfied: wcwidth in c:\\users\\habee\\anaconda3\\envs\\translate_env\\lib\\site-packages (from prompt-toolkit<3.1.0,>=3.0.41->ipython>=6.1.0->ipywidgets) (0.2.13)\n",
      "Requirement already satisfied: executing>=1.2.0 in c:\\users\\habee\\anaconda3\\envs\\translate_env\\lib\\site-packages (from stack-data->ipython>=6.1.0->ipywidgets) (2.1.0)\n",
      "Requirement already satisfied: asttokens>=2.1.0 in c:\\users\\habee\\anaconda3\\envs\\translate_env\\lib\\site-packages (from stack-data->ipython>=6.1.0->ipywidgets) (3.0.0)\n",
      "Requirement already satisfied: pure-eval in c:\\users\\habee\\anaconda3\\envs\\translate_env\\lib\\site-packages (from stack-data->ipython>=6.1.0->ipywidgets) (0.2.3)\n"
     ]
    }
   ],
   "source": [
    "!pip install googletrans==4.0.0-rc1 ipywidgets\n"
   ]
  },
  {
   "cell_type": "code",
   "execution_count": 2,
   "id": "11c854a9-bb81-4888-aaf8-fce6cd85daea",
   "metadata": {},
   "outputs": [],
   "source": [
    "from googletrans import Translator\n",
    "from ipywidgets import widgets, VBox, HBox, Label, Layout\n",
    "from IPython.display import display"
   ]
  },
  {
   "cell_type": "code",
   "execution_count": 3,
   "id": "be6d11d2-a5cc-40a1-8f79-16b90dd8d253",
   "metadata": {},
   "outputs": [],
   "source": [
    "translator = Translator()"
   ]
  },
  {
   "cell_type": "code",
   "execution_count": 4,
   "id": "9362c38e-d1eb-4bbe-877b-be97e8efe9da",
   "metadata": {},
   "outputs": [],
   "source": [
    "text_input = widgets.Textarea(\n",
    "    value=\"\",\n",
    "    placeholder=\"Enter text to translate\",\n",
    "    description=\"Input Text:\",\n",
    "    layout=widgets.Layout(width=\"100%\", height=\"100px\")\n",
    ")\n",
    "\n",
    "source_lang = widgets.Dropdown(\n",
    "    options={\n",
    "        \"English\": \"en\",\n",
    "        \"French\": \"fr\",\n",
    "        \"Spanish\": \"es\",\n",
    "        \"German\": \"de\",\n",
    "        \"Hindi\": \"hi\",\n",
    "        \"Chinese\": \"zh-cn\"\n",
    "    },\n",
    "    description=\"From:\"\n",
    ")\n",
    "\n",
    "target_lang = widgets.Dropdown(\n",
    "    options={\n",
    "        \"English\": \"en\",\n",
    "        \"French\": \"fr\",\n",
    "        \"Spanish\": \"es\",\n",
    "        \"German\": \"de\",\n",
    "        \"Hindi\": \"hi\",\n",
    "        \"Chinese\": \"zh-cn\"\n",
    "    },\n",
    "    description=\"To:\"\n",
    ")\n",
    "\n",
    "translate_button = widgets.Button(\n",
    "    description=\"Translate\",\n",
    "    button_style=\"success\",\n",
    "    tooltip=\"Click to translate text\",\n",
    ")\n",
    "\n",
    "output_area = widgets.Textarea(\n",
    "    value=\"\",\n",
    "    description=\"Translation:\",\n",
    "    layout=widgets.Layout(width=\"100%\", height=\"100px\"),\n",
    "    disabled=True\n",
    ")\n"
   ]
  },
  {
   "cell_type": "code",
   "execution_count": 5,
   "id": "1700e866-33ca-4cc1-9ea3-077a897118fa",
   "metadata": {},
   "outputs": [],
   "source": [
    "def translate_text(_):\n",
    "    try:\n",
    "        result = translator.translate(text_input.value, src=source_lang.value, dest=target_lang.value)\n",
    "        output_area.value = result.text\n",
    "    except Exception as e:\n",
    "        output_area.value = f\"Error: {e}\""
   ]
  },
  {
   "cell_type": "code",
   "execution_count": 6,
   "id": "9900ebc3-db1b-403b-bc44-09af6ce12b14",
   "metadata": {},
   "outputs": [],
   "source": [
    "translate_button.on_click(translate_text)"
   ]
  },
  {
   "cell_type": "code",
   "execution_count": 7,
   "id": "0a75deef-fd94-4e36-8184-8684b29feb7b",
   "metadata": {},
   "outputs": [],
   "source": [
    "input_box = VBox([Label(\"Input Text\"), text_input])\n",
    "lang_selection_box = HBox([source_lang, target_lang])\n",
    "translate_box = HBox([translate_button])\n",
    "output_box = VBox([Label(\"Translation\"), output_area])"
   ]
  },
  {
   "cell_type": "code",
   "execution_count": 8,
   "id": "b6b56737-c1b3-4909-9787-d9f47ec6b152",
   "metadata": {},
   "outputs": [
    {
     "data": {
      "application/vnd.jupyter.widget-view+json": {
       "model_id": "82ca934ae352475bbfe1599977a409a6",
       "version_major": 2,
       "version_minor": 0
      },
      "text/plain": [
       "VBox(children=(VBox(children=(Label(value='Input Text'), Textarea(value='', description='Input Text:', layout=…"
      ]
     },
     "metadata": {},
     "output_type": "display_data"
    }
   ],
   "source": [
    "app = VBox([input_box, lang_selection_box, translate_box, output_box])\n",
    "display(app)"
   ]
  },
  {
   "cell_type": "code",
   "execution_count": null,
   "id": "90b078d3-543b-408f-8bf8-d71416226521",
   "metadata": {},
   "outputs": [],
   "source": []
  }
 ],
 "metadata": {
  "kernelspec": {
   "display_name": "Python 3 (ipykernel)",
   "language": "python",
   "name": "python3"
  },
  "language_info": {
   "codemirror_mode": {
    "name": "ipython",
    "version": 3
   },
   "file_extension": ".py",
   "mimetype": "text/x-python",
   "name": "python",
   "nbconvert_exporter": "python",
   "pygments_lexer": "ipython3",
   "version": "3.9.21"
  }
 },
 "nbformat": 4,
 "nbformat_minor": 5
}
